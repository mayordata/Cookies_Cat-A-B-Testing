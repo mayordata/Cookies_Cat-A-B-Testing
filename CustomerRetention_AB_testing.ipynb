{
 "cells": [
  {
   "cell_type": "code",
   "execution_count": 2,
   "id": "781370aa-ba40-41a6-9773-1d5876fe8f0c",
   "metadata": {},
   "outputs": [],
   "source": [
    "import pandas as pd\n",
    "import matplotlib.pyplot as plt\n",
    "import seaborn as sns\n",
    "import numpy as np\n",
    "\n",
    "import warnings\n",
    "warnings.filterwarnings('ignore')\n"
   ]
  },
  {
   "cell_type": "markdown",
   "id": "332cce70-a445-48f0-aabd-e6df8abe17b9",
   "metadata": {},
   "source": [
    "#### DATASET"
   ]
  },
  {
   "cell_type": "code",
   "execution_count": 5,
   "id": "49e82125-586e-48d7-9f2d-a93e2f659196",
   "metadata": {},
   "outputs": [],
   "source": [
    "# Reading the data\n",
    "\n",
    "cookies = pd.read_csv(r\"C:\\Users\\LENOVO\\Desktop\\All-folder\\AlgoraProject\\ABtesting\\cookie_cats.csv\")"
   ]
  },
  {
   "cell_type": "code",
   "execution_count": 6,
   "id": "15cf4526-12ae-4624-b0e4-ee1b50d0ebff",
   "metadata": {},
   "outputs": [
    {
     "data": {
      "text/html": [
       "<div>\n",
       "<style scoped>\n",
       "    .dataframe tbody tr th:only-of-type {\n",
       "        vertical-align: middle;\n",
       "    }\n",
       "\n",
       "    .dataframe tbody tr th {\n",
       "        vertical-align: top;\n",
       "    }\n",
       "\n",
       "    .dataframe thead th {\n",
       "        text-align: right;\n",
       "    }\n",
       "</style>\n",
       "<table border=\"1\" class=\"dataframe\">\n",
       "  <thead>\n",
       "    <tr style=\"text-align: right;\">\n",
       "      <th></th>\n",
       "      <th>userid</th>\n",
       "      <th>version</th>\n",
       "      <th>sum_gamerounds</th>\n",
       "      <th>retention_1</th>\n",
       "      <th>retention_7</th>\n",
       "    </tr>\n",
       "  </thead>\n",
       "  <tbody>\n",
       "    <tr>\n",
       "      <th>0</th>\n",
       "      <td>116</td>\n",
       "      <td>gate_30</td>\n",
       "      <td>3</td>\n",
       "      <td>False</td>\n",
       "      <td>False</td>\n",
       "    </tr>\n",
       "    <tr>\n",
       "      <th>1</th>\n",
       "      <td>337</td>\n",
       "      <td>gate_30</td>\n",
       "      <td>38</td>\n",
       "      <td>True</td>\n",
       "      <td>False</td>\n",
       "    </tr>\n",
       "    <tr>\n",
       "      <th>2</th>\n",
       "      <td>377</td>\n",
       "      <td>gate_40</td>\n",
       "      <td>165</td>\n",
       "      <td>True</td>\n",
       "      <td>False</td>\n",
       "    </tr>\n",
       "    <tr>\n",
       "      <th>3</th>\n",
       "      <td>483</td>\n",
       "      <td>gate_40</td>\n",
       "      <td>1</td>\n",
       "      <td>False</td>\n",
       "      <td>False</td>\n",
       "    </tr>\n",
       "    <tr>\n",
       "      <th>4</th>\n",
       "      <td>488</td>\n",
       "      <td>gate_40</td>\n",
       "      <td>179</td>\n",
       "      <td>True</td>\n",
       "      <td>True</td>\n",
       "    </tr>\n",
       "  </tbody>\n",
       "</table>\n",
       "</div>"
      ],
      "text/plain": [
       "   userid  version  sum_gamerounds  retention_1  retention_7\n",
       "0     116  gate_30               3        False        False\n",
       "1     337  gate_30              38         True        False\n",
       "2     377  gate_40             165         True        False\n",
       "3     483  gate_40               1        False        False\n",
       "4     488  gate_40             179         True         True"
      ]
     },
     "execution_count": 6,
     "metadata": {},
     "output_type": "execute_result"
    }
   ],
   "source": [
    "# check the the data\n",
    "\n",
    "cookies.head()"
   ]
  },
  {
   "cell_type": "code",
   "execution_count": 8,
   "id": "6aae1f63-75a0-42c4-9cd7-af1134213a74",
   "metadata": {},
   "outputs": [
    {
     "data": {
      "text/plain": [
       "0"
      ]
     },
     "execution_count": 8,
     "metadata": {},
     "output_type": "execute_result"
    }
   ],
   "source": [
    "# Check duplicate\n",
    "\n",
    "cookies.duplicated(subset = 'userid').sum()"
   ]
  },
  {
   "cell_type": "code",
   "execution_count": 9,
   "id": "19d5d399-6187-4c4f-887e-0fcc22bbaab8",
   "metadata": {},
   "outputs": [
    {
     "name": "stdout",
     "output_type": "stream",
     "text": [
      "<class 'pandas.core.frame.DataFrame'>\n",
      "RangeIndex: 90189 entries, 0 to 90188\n",
      "Data columns (total 5 columns):\n",
      " #   Column          Non-Null Count  Dtype \n",
      "---  ------          --------------  ----- \n",
      " 0   userid          90189 non-null  int64 \n",
      " 1   version         90189 non-null  object\n",
      " 2   sum_gamerounds  90189 non-null  int64 \n",
      " 3   retention_1     90189 non-null  bool  \n",
      " 4   retention_7     90189 non-null  bool  \n",
      "dtypes: bool(2), int64(2), object(1)\n",
      "memory usage: 2.2+ MB\n"
     ]
    }
   ],
   "source": [
    "# Check data info\n",
    "\n",
    "cookies.info()"
   ]
  },
  {
   "cell_type": "code",
   "execution_count": 49,
   "id": "a49bda8e-b56f-4b63-8ac0-4a4410005737",
   "metadata": {},
   "outputs": [
    {
     "data": {
      "text/plain": [
       "count    90189.000000\n",
       "mean        51.872457\n",
       "std        195.050858\n",
       "min          0.000000\n",
       "25%          5.000000\n",
       "50%         16.000000\n",
       "75%         51.000000\n",
       "max      49854.000000\n",
       "Name: sum_gamerounds, dtype: float64"
      ]
     },
     "execution_count": 49,
     "metadata": {},
     "output_type": "execute_result"
    }
   ],
   "source": [
    "# Statistical Analysis \n",
    "\n",
    "cookies['sum_gamerounds'].describe()"
   ]
  },
  {
   "cell_type": "code",
   "execution_count": 32,
   "id": "160b7a05-e56b-4246-9933-65dfbc74826b",
   "metadata": {},
   "outputs": [],
   "source": [
    "# drop unwanted column \n",
    "\n",
    "cookies = cookies.drop('userid', axis = 1)"
   ]
  },
  {
   "cell_type": "code",
   "execution_count": 37,
   "id": "6dbdd8ff-7fb5-4585-8067-c672bf569692",
   "metadata": {},
   "outputs": [
    {
     "data": {
      "text/plain": [
       "version        2\n",
       "retention_1    2\n",
       "retention_7    2\n",
       "dtype: int64"
      ]
     },
     "execution_count": 37,
     "metadata": {},
     "output_type": "execute_result"
    }
   ],
   "source": [
    "cookies[cat].nunique()"
   ]
  },
  {
   "cell_type": "code",
   "execution_count": 47,
   "id": "34db5a7c-3d97-4720-ad75-f80617943407",
   "metadata": {},
   "outputs": [],
   "source": [
    "# Creating a categorical column list\n",
    "\n",
    "cate = ['version', 'retention_1', 'retention_7']"
   ]
  },
  {
   "cell_type": "code",
   "execution_count": 48,
   "id": "71bddd81-2cce-4587-a77d-bd04f32afc12",
   "metadata": {},
   "outputs": [
    {
     "name": "stdout",
     "output_type": "stream",
     "text": [
      "VERSION : ['gate_30' 'gate_40']\n",
      "RETENTION_1 : [False  True]\n",
      "RETENTION_7 : [False  True]\n"
     ]
    }
   ],
   "source": [
    "# checking the categorical variables for the categorical columns \n",
    "\n",
    "for cat in cookies[cate]:\n",
    "    print(cat.upper(), ':', cookies[cat].unique())"
   ]
  },
  {
   "cell_type": "markdown",
   "id": "681f7447-52f8-4113-bc72-e5fe55bcf012",
   "metadata": {},
   "source": [
    "#### Univariate analysis\n",
    "\n",
    "\r\n",
    "Univariate analysis is a statistical method used to analyze the relationship between one variable and its distribution within a dataset. It involves examining the characteristics and properties of a single variable without considering any relationship with other variables."
   ]
  },
  {
   "cell_type": "code",
   "execution_count": 64,
   "id": "35983041-ffc5-49bd-a3e5-6b724175571a",
   "metadata": {},
   "outputs": [
    {
     "data": {
      "image/png": "[encoded data removed]",
      "text/plain": [
       "<Figure size 600x400 with 1 Axes>"
      ]
     },
     "metadata": {},
     "output_type": "display_data"
    },
    {
     "data": {
      "image/png": "[encoded data removed]",
      "text/plain": [
       "<Figure size 600x400 with 1 Axes>"
      ]
     },
     "metadata": {},
     "output_type": "display_data"
    },
    {
     "data": {
      "image/png": "[encoded data removed]",
      "text/plain": [
       "<Figure size 600x400 with 1 Axes>"
      ]
     },
     "metadata": {},
     "output_type": "display_data"
    }
   ],
   "source": [
    "# creating a loop to view the categorical columns \n",
    "\n",
    "for col in cate:\n",
    "    plt.figure(figsize = (6, 4))\n",
    "    sns.countplot(x = col, data = cookies)\n",
    "    plt.title(f'countplot of {col}')"
   ]
  },
  {
   "cell_type": "code",
   "execution_count": 69,
   "id": "02f85337-b7c0-4161-a06c-4e12da756c07",
   "metadata": {},
   "outputs": [
    {
     "data": {
      "image/png": "[encoded data removed]",
      "text/plain": [
       "<Figure size 600x400 with 2 Axes>"
      ]
     },
     "metadata": {},
     "output_type": "display_data"
    }
   ],
   "source": [
    "variable = 'sum_gamerounds'\n",
    "\n",
    "plt.figure(figsize = (6, 4))\n",
    "\n",
    "plt.subplot(1, 2, 1)\n",
    "sns.histplot(x = variable , data = cookies[cookies['sum_gamerounds'] < 100])\n",
    "plt.title(f'histogram of {variable}')\n",
    "\n",
    "\n",
    "plt.subplot(1, 2, 2)\n",
    "sns.boxplot(x = variable , data = cookies[cookies['sum_gamerounds'] < 100])\n",
    "plt.title(f'boxplot of {variable}')\n",
    "\n",
    "plt.tight_layout()"
   ]
  },
  {
   "cell_type": "code",
   "execution_count": 79,
   "id": "b0786d89-56e3-42b8-b781-adac1a6e3d3b",
   "metadata": {},
   "outputs": [
    {
     "name": "stdout",
     "output_type": "stream",
     "text": [
      "(89764, 4)\n",
      "637.0250293558043\n"
     ]
    },
    {
     "data": {
      "text/plain": [
       "sum_gamerounds    Axes(0.125,0.11;0.775x0.77)\n",
       "dtype: object"
      ]
     },
     "execution_count": 79,
     "metadata": {},
     "output_type": "execute_result"
    },
    {
     "data": {
      "image/png": "[encoded data removed]",
      "text/plain": [
       "<Figure size 400x400 with 1 Axes>"
      ]
     },
     "metadata": {},
     "output_type": "display_data"
    }
   ],
   "source": [
    "#Remove outliers\n",
    "\n",
    "upper_limit = (cookies['sum_gamerounds'].mean()) + (3 * cookies['sum_gamerounds'].std())\n",
    "\n",
    "data = cookies[cookies['sum_gamerounds'] < upper_limit]\n",
    "print(data.shape)\n",
    "print(upper_limit)\n",
    "\n",
    "data['sum_gamerounds'].plot(\n",
    "    kind = 'box',\n",
    "    figsize = (4,4),\n",
    "    subplots = True)"
   ]
  },
  {
   "cell_type": "markdown",
   "id": "e4c7a25e-51bb-4076-9f18-f1eccdc7e2b3",
   "metadata": {},
   "source": [
    "### Bivariance analysis\n",
    "\n",
    "\"Bivariate analysis\" refers to the statistical analysis that involves the simultaneous analysis of two variables to determine the relationship between them."
   ]
  },
  {
   "cell_type": "code",
   "execution_count": 80,
   "id": "3c634c3c-5466-4578-b07e-b63058ab4ead",
   "metadata": {},
   "outputs": [
    {
     "data": {
      "text/plain": [
       "Index(['version', 'sum_gamerounds', 'retention_1', 'retention_7'], dtype='object')"
      ]
     },
     "execution_count": 80,
     "metadata": {},
     "output_type": "execute_result"
    }
   ],
   "source": [
    "cookies.columns"
   ]
  },
  {
   "cell_type": "code",
   "execution_count": 160,
   "id": "2870a284-ca8c-498b-93a8-32d8ba788b12",
   "metadata": {},
   "outputs": [
    {
     "name": "stdout",
     "output_type": "stream",
     "text": [
      "retention_1  False  True \n",
      "version                  \n",
      "gate_30      24666  20034\n",
      "gate_40      25370  20119\n",
      "\n",
      "           %Retention\n",
      "retention_1      False      True \n",
      "version                          \n",
      "gate_30      27.349233  22.213352\n",
      "gate_40      28.129816  22.307598\n",
      "\n",
      "\n"
     ]
    },
    {
     "data": {
      "image/png": "[encoded data removed]",
      "text/plain": [
       "<Figure size 640x480 with 1 Axes>"
      ]
     },
     "metadata": {},
     "output_type": "display_data"
    }
   ],
   "source": [
    "# retention1 at different gate \n",
    "\n",
    "gate_retention1 = pd.crosstab(cookies['version'], cookies['retention_1'])\n",
    "\n",
    "print(gate_retention1)\n",
    "print(\"\\n           %Retention\")\n",
    "print(gate_retention1 / len(cookies) * 100)\n",
    "print(\"\\n\")\n",
    "gate_retention1.plot.bar(stacked = True);"
   ]
  },
  {
   "cell_type": "code",
   "execution_count": 161,
   "id": "51827ac0-e1f5-434e-a9d8-effe68051175",
   "metadata": {},
   "outputs": [
    {
     "name": "stdout",
     "output_type": "stream",
     "text": [
      "retention_7  False  True \n",
      "version                  \n",
      "gate_30      36198   8502\n",
      "gate_40      37210   8279\n",
      "\n",
      "           %Retention\n",
      "retention_7      False     True \n",
      "version                         \n",
      "gate_30      40.135715  9.426870\n",
      "gate_40      41.257803  9.179612\n",
      "\n",
      "\n"
     ]
    },
    {
     "data": {
      "image/png": "[encoded data removed]",
      "text/plain": [
       "<Figure size 640x480 with 1 Axes>"
      ]
     },
     "metadata": {},
     "output_type": "display_data"
    }
   ],
   "source": [
    "# retention 7 at different gate\n",
    "\n",
    "gate_retention7 = pd.crosstab(cookies['version'], cookies['retention_7'])\n",
    "\n",
    "print(gate_retention7)\n",
    "print(\"\\n           %Retention\")\n",
    "print(gate_retention7 / len(cookies) * 100)\n",
    "print(\"\\n\")\n",
    "gate_retention7.plot.bar(stacked = True);"
   ]
  },
  {
   "cell_type": "code",
   "execution_count": 181,
   "id": "0aab6a25-3e9c-4ded-9599-27c5dd068079",
   "metadata": {},
   "outputs": [
    {
     "name": "stdout",
     "output_type": "stream",
     "text": [
      "version\n",
      "gate_30    20034\n",
      "gate_40    20119\n",
      "Name: sum_gamerounds, dtype: int64\n",
      " \n"
     ]
    },
    {
     "data": {
      "image/png": "[encoded data removed]",
      "text/plain": [
       "<Figure size 640x480 with 1 Axes>"
      ]
     },
     "metadata": {},
     "output_type": "display_data"
    }
   ],
   "source": [
    "# total rounds of game for different gates for retention 1\n",
    "\n",
    "retention1_sum_gamerounds = cookies[cookies['retention_1'] == True].drop('retention_7', axis = 1).groupby('version')['sum_gamerounds'].count()\n",
    "\n",
    "print(retention1_sum_gamerounds)\n",
    "print(' ')\n",
    "retention1_sum_gamerounds.plot.bar();"
   ]
  },
  {
   "cell_type": "code",
   "execution_count": 180,
   "id": "536286e1-23b1-48b2-9723-443ef3dd14d6",
   "metadata": {},
   "outputs": [
    {
     "name": "stdout",
     "output_type": "stream",
     "text": [
      "version\n",
      "gate_30    8502\n",
      "gate_40    8279\n",
      "Name: sum_gamerounds, dtype: int64\n",
      " \n"
     ]
    },
    {
     "data": {
      "image/png": "[encoded data removed]",
      "text/plain": [
       "<Figure size 640x480 with 1 Axes>"
      ]
     },
     "metadata": {},
     "output_type": "display_data"
    }
   ],
   "source": [
    "# total rounds of game for different gates for retention 7\n",
    "\n",
    "retention7_sum_gamerounds = cookies[cookies['retention_7'] == True].drop('retention_1', axis = 1).groupby('version')['sum_gamerounds'].count()\n",
    "\n",
    "print(retention7_sum_gamerounds)\n",
    "print(' ')\n",
    "retention7_sum_gamerounds.plot.bar();"
   ]
  },
  {
   "cell_type": "markdown",
   "id": "b73b0495-3383-443d-a4b0-cab472752165",
   "metadata": {},
   "source": [
    "\n",
    "- 55 percent of the players didn't play the game 1 day after insalling\n",
    "- 81 percent of the players didn't play the game 7 day after insalling"
   ]
  },
  {
   "cell_type": "code",
   "execution_count": 178,
   "id": "2faa7966-195d-4c2f-8283-b048b41d0ff8",
   "metadata": {},
   "outputs": [
    {
     "data": {
      "text/html": [
       "<div>\n",
       "<style scoped>\n",
       "    .dataframe tbody tr th:only-of-type {\n",
       "        vertical-align: middle;\n",
       "    }\n",
       "\n",
       "    .dataframe tbody tr th {\n",
       "        vertical-align: top;\n",
       "    }\n",
       "\n",
       "    .dataframe thead th {\n",
       "        text-align: right;\n",
       "    }\n",
       "</style>\n",
       "<table border=\"1\" class=\"dataframe\">\n",
       "  <thead>\n",
       "    <tr style=\"text-align: right;\">\n",
       "      <th></th>\n",
       "      <th></th>\n",
       "      <th>count</th>\n",
       "      <th>median</th>\n",
       "      <th>mean</th>\n",
       "      <th>std</th>\n",
       "      <th>max</th>\n",
       "    </tr>\n",
       "    <tr>\n",
       "      <th>version</th>\n",
       "      <th>retention_1</th>\n",
       "      <th></th>\n",
       "      <th></th>\n",
       "      <th></th>\n",
       "      <th></th>\n",
       "      <th></th>\n",
       "    </tr>\n",
       "  </thead>\n",
       "  <tbody>\n",
       "    <tr>\n",
       "      <th rowspan=\"2\" valign=\"top\">gate_30</th>\n",
       "      <th>False</th>\n",
       "      <td>24666</td>\n",
       "      <td>6.0</td>\n",
       "      <td>18.379591</td>\n",
       "      <td>319.423232</td>\n",
       "      <td>49854</td>\n",
       "    </tr>\n",
       "    <tr>\n",
       "      <th>True</th>\n",
       "      <td>20034</td>\n",
       "      <td>48.0</td>\n",
       "      <td>94.411700</td>\n",
       "      <td>135.037697</td>\n",
       "      <td>2961</td>\n",
       "    </tr>\n",
       "    <tr>\n",
       "      <th rowspan=\"2\" valign=\"top\">gate_40</th>\n",
       "      <th>False</th>\n",
       "      <td>25370</td>\n",
       "      <td>6.0</td>\n",
       "      <td>16.340402</td>\n",
       "      <td>35.925756</td>\n",
       "      <td>1241</td>\n",
       "    </tr>\n",
       "    <tr>\n",
       "      <th>True</th>\n",
       "      <td>20119</td>\n",
       "      <td>49.0</td>\n",
       "      <td>95.381182</td>\n",
       "      <td>137.887256</td>\n",
       "      <td>2640</td>\n",
       "    </tr>\n",
       "  </tbody>\n",
       "</table>\n",
       "</div>"
      ],
      "text/plain": [
       "                     count  median       mean         std    max\n",
       "version retention_1                                             \n",
       "gate_30 False        24666     6.0  18.379591  319.423232  49854\n",
       "        True         20034    48.0  94.411700  135.037697   2961\n",
       "gate_40 False        25370     6.0  16.340402   35.925756   1241\n",
       "        True         20119    49.0  95.381182  137.887256   2640"
      ]
     },
     "execution_count": 178,
     "metadata": {},
     "output_type": "execute_result"
    }
   ],
   "source": [
    "cookies.groupby([\"version\", \"retention_1\"]).sum_gamerounds.agg([\"count\", \"median\", \"mean\", \"std\", \"max\"])"
   ]
  },
  {
   "cell_type": "code",
   "execution_count": 179,
   "id": "89fdcc55-a881-4ccd-a02f-0422038f5598",
   "metadata": {},
   "outputs": [
    {
     "data": {
      "text/html": [
       "<div>\n",
       "<style scoped>\n",
       "    .dataframe tbody tr th:only-of-type {\n",
       "        vertical-align: middle;\n",
       "    }\n",
       "\n",
       "    .dataframe tbody tr th {\n",
       "        vertical-align: top;\n",
       "    }\n",
       "\n",
       "    .dataframe thead th {\n",
       "        text-align: right;\n",
       "    }\n",
       "</style>\n",
       "<table border=\"1\" class=\"dataframe\">\n",
       "  <thead>\n",
       "    <tr style=\"text-align: right;\">\n",
       "      <th></th>\n",
       "      <th></th>\n",
       "      <th>count</th>\n",
       "      <th>median</th>\n",
       "      <th>mean</th>\n",
       "      <th>std</th>\n",
       "      <th>max</th>\n",
       "    </tr>\n",
       "    <tr>\n",
       "      <th>version</th>\n",
       "      <th>retention_7</th>\n",
       "      <th></th>\n",
       "      <th></th>\n",
       "      <th></th>\n",
       "      <th></th>\n",
       "      <th></th>\n",
       "    </tr>\n",
       "  </thead>\n",
       "  <tbody>\n",
       "    <tr>\n",
       "      <th rowspan=\"2\" valign=\"top\">gate_30</th>\n",
       "      <th>False</th>\n",
       "      <td>36198</td>\n",
       "      <td>11.0</td>\n",
       "      <td>25.796508</td>\n",
       "      <td>43.316158</td>\n",
       "      <td>981</td>\n",
       "    </tr>\n",
       "    <tr>\n",
       "      <th>True</th>\n",
       "      <td>8502</td>\n",
       "      <td>105.0</td>\n",
       "      <td>165.962479</td>\n",
       "      <td>568.000576</td>\n",
       "      <td>49854</td>\n",
       "    </tr>\n",
       "    <tr>\n",
       "      <th rowspan=\"2\" valign=\"top\">gate_40</th>\n",
       "      <th>False</th>\n",
       "      <td>37210</td>\n",
       "      <td>11.0</td>\n",
       "      <td>25.856356</td>\n",
       "      <td>44.406112</td>\n",
       "      <td>2640</td>\n",
       "    </tr>\n",
       "    <tr>\n",
       "      <th>True</th>\n",
       "      <td>8279</td>\n",
       "      <td>111.0</td>\n",
       "      <td>165.649837</td>\n",
       "      <td>183.792499</td>\n",
       "      <td>2294</td>\n",
       "    </tr>\n",
       "  </tbody>\n",
       "</table>\n",
       "</div>"
      ],
      "text/plain": [
       "                     count  median        mean         std    max\n",
       "version retention_7                                              \n",
       "gate_30 False        36198    11.0   25.796508   43.316158    981\n",
       "        True          8502   105.0  165.962479  568.000576  49854\n",
       "gate_40 False        37210    11.0   25.856356   44.406112   2640\n",
       "        True          8279   111.0  165.649837  183.792499   2294"
      ]
     },
     "execution_count": 179,
     "metadata": {},
     "output_type": "execute_result"
    }
   ],
   "source": [
    "cookies.groupby([\"version\", \"retention_7\"]).sum_gamerounds.agg([\"count\", \"median\", \"mean\", \"std\", \"max\"])"
   ]
  },
  {
   "cell_type": "code",
   "execution_count": 182,
   "id": "6945ace5-8831-4740-aa1f-7c79c214a8bc",
   "metadata": {},
   "outputs": [
    {
     "data": {
      "text/html": [
       "<div>\n",
       "<style scoped>\n",
       "    .dataframe tbody tr th:only-of-type {\n",
       "        vertical-align: middle;\n",
       "    }\n",
       "\n",
       "    .dataframe tbody tr th {\n",
       "        vertical-align: top;\n",
       "    }\n",
       "\n",
       "    .dataframe thead th {\n",
       "        text-align: right;\n",
       "    }\n",
       "</style>\n",
       "<table border=\"1\" class=\"dataframe\">\n",
       "  <thead>\n",
       "    <tr style=\"text-align: right;\">\n",
       "      <th></th>\n",
       "      <th>count</th>\n",
       "      <th>median</th>\n",
       "      <th>mean</th>\n",
       "      <th>std</th>\n",
       "      <th>max</th>\n",
       "    </tr>\n",
       "    <tr>\n",
       "      <th>version</th>\n",
       "      <th></th>\n",
       "      <th></th>\n",
       "      <th></th>\n",
       "      <th></th>\n",
       "      <th></th>\n",
       "    </tr>\n",
       "  </thead>\n",
       "  <tbody>\n",
       "    <tr>\n",
       "      <th>gate_30</th>\n",
       "      <td>44700</td>\n",
       "      <td>17.0</td>\n",
       "      <td>52.456264</td>\n",
       "      <td>256.716423</td>\n",
       "      <td>49854</td>\n",
       "    </tr>\n",
       "    <tr>\n",
       "      <th>gate_40</th>\n",
       "      <td>45489</td>\n",
       "      <td>16.0</td>\n",
       "      <td>51.298776</td>\n",
       "      <td>103.294416</td>\n",
       "      <td>2640</td>\n",
       "    </tr>\n",
       "  </tbody>\n",
       "</table>\n",
       "</div>"
      ],
      "text/plain": [
       "         count  median       mean         std    max\n",
       "version                                             \n",
       "gate_30  44700    17.0  52.456264  256.716423  49854\n",
       "gate_40  45489    16.0  51.298776  103.294416   2640"
      ]
     },
     "execution_count": 182,
     "metadata": {},
     "output_type": "execute_result"
    }
   ],
   "source": [
    "# A/B Groups & Target Summary Stats\n",
    "cookies.groupby(\"version\").sum_gamerounds.agg([\"count\", \"median\", \"mean\", \"std\", \"max\"])"
   ]
  },
  {
   "cell_type": "markdown",
   "id": "54c96ad0-6727-4d63-8375-c3dbaf7f3efa",
   "metadata": {},
   "source": [
    "#### Statistical Analysis\n",
    "\n",
    "Chi-Square Test: Chi-square test is used to determine whether there is a significant association between two categorical variables."
   ]
  },
  {
   "cell_type": "code",
   "execution_count": 175,
   "id": "a0d3b8f1-38dd-40c4-bec7-1e3826cbc262",
   "metadata": {},
   "outputs": [
    {
     "name": "stdout",
     "output_type": "stream",
     "text": [
      "\n",
      "Chi_squared test for sum_gamerounds vs version\n",
      "Chi_sqaured value: 985.4980544212584\n",
      "P_value: 0.1526113569373539\n",
      "There is no significant difference in version across sum_gamerounds\n",
      "\n",
      "Chi_squared test for retention_1 vs version\n",
      "Chi_sqaured value: 3.1591007878782262\n",
      "P_value: 0.07550476210309086\n",
      "There is no significant difference in version across retention_1\n",
      "\n",
      "Chi_squared test for retention_7 vs version\n",
      "Chi_sqaured value: 9.959086799559167\n",
      "P_value: 0.0016005742679058301\n",
      "The versions across retention_7 is statistically significant\n"
     ]
    }
   ],
   "source": [
    "from scipy.stats import chi2_contingency\n",
    "alpha = 0.05\n",
    "for variable in cookies.columns:\n",
    "    if variable != 'version':\n",
    "        contingency_table = pd.crosstab(cookies[variable], cookies['version'])\n",
    "\n",
    "        chi2, P_value, Degrees, frequencies = chi2_contingency(contingency_table)\n",
    "\n",
    "        print(f\"\\nChi_squared test for {variable} vs version\")\n",
    "        print(f\"Chi_sqaured value: {chi2}\")\n",
    "        print(f\"P_value: {P_value}\")\n",
    "\n",
    "        if P_value < alpha:\n",
    "            print(f\"The versions across {variable} is statistically significant\")\n",
    "        else:\n",
    "            print(f\"There is no significant difference in versions across {variable}\")"
   ]
  },
  {
   "cell_type": "markdown",
   "id": "2f7501b6-c2f9-4ab6-8334-94a64b1c9e94",
   "metadata": {},
   "source": [
    "##### Conclusion from the chi2 table \n",
    "\n",
    "\n",
    "1. This means that, based on the data and the statistical analysis performed, we do not have sufficient evidence to conclude that there is a significant association between the version of the game and the number of gamerounds played. Therefore, we cannot make any claims about the influence of the game version on the number of gamerounds played based on this analysis.\n",
    "\n",
    "\n",
    "2. This means that, based on the data and the statistical analysis performed, we do not have sufficient evidence to conclude that there is a significant association between the version of the game and retention after one day. Therefore, we cannot make any claims about the influence of the game version on retention after one day based on this analysis.\n",
    "\n",
    "\n",
    "3. This means that, based on the data and the statistical analysis performed, we have sufficient evidence to conclude that there is a significant association between the version of the game and retention after seven days. Therefore, we can infer that the game version may have a statistically significant impact on retention after seven days."
   ]
  },
  {
   "cell_type": "code",
   "execution_count": 207,
   "id": "9fbd4bd6-50c3-46f2-bac5-4c8d9bbde988",
   "metadata": {},
   "outputs": [
    {
     "name": "stdout",
     "output_type": "stream",
     "text": [
      "shapiro-wilk test for normality (gate_30): p-value = 0.0\n",
      "shapiro-wilk test for normality (gate_40): p-value = 0.0\n",
      "\n",
      "Gate_30 Normality: 0.0, We reject the null hypothesis, gate_30 is not normally distrubited\n",
      "Gate_40 Normality: 0.0, We reject the null hypothesis, gate_40 is not normally distrubited\n",
      "\n",
      "Levene's test for equality of varaiance: p-value = 0.46694516772623273\n",
      "\n",
      "Levene's test: 0.46694516772623273, We fail to reject the null hypothesis, There is no significant difference in variance between the Gate_30 and Gate_40\n"
     ]
    }
   ],
   "source": [
    "# Check the normality of the data\n",
    "\n",
    "from scipy.stats import shapiro, levene, ttest_ind, mannwhitneyu \n",
    "\n",
    "# Step 1: Ckeck Assumptions\n",
    "# Normality Assumption\n",
    "\n",
    "shapiro_stat_gate_30, shapiro_p_value_gate_30 = shapiro(cookies[cookies['version'] == 'gate_30']['sum_gamerounds'])\n",
    "shapiro_stat_gate_40, shapiro_p_value_gate_40 = shapiro(cookies[cookies['version'] == 'gate_40']['sum_gamerounds'])\n",
    "\n",
    "print(f'shapiro-wilk test for normality (gate_30): p-value = {shapiro_p_value_gate_30}')\n",
    "print(f'shapiro-wilk test for normality (gate_40): p-value = {shapiro_p_value_gate_40}')\n",
    "\n",
    "if shapiro_p_value_gate_30 < alpha:\n",
    "    print(f'\\nGate_30 Normality: {shapiro_p_value_gate_30}, We reject the null hypothesis, gate_30 is not normally distrubited')\n",
    "else:\n",
    "    print(f'Gate_30 Normality: {shapiro_p_value_gate_30}, We fail to reject the null hypothesis, gate_30 is normally distrubited')\n",
    "    \n",
    "if shapiro_p_value_gate_40 < alpha:\n",
    "    print(f'Gate_40 Normality: {shapiro_p_value_gate_40}, We reject the null hypothesis, gate_40 is not normally distrubited')\n",
    "else:\n",
    "    print(f'Gate_40 Normality: {shapiro_p_value_gate_40}, We fail to reject the null hypothesis, gate_40 is normally distrubited')\n",
    "\n",
    "# Equality of variances assumption\n",
    "\n",
    "levene_stat, levene_p_value = levene(cookies[cookies['version'] == 'gate_30']['sum_gamerounds'], cookies[cookies['version'] == 'gate_40']['sum_gamerounds'])\n",
    "                                     \n",
    "print(f\"\\nLevene's test for equality of varaiance: p-value = {levene_p_value}\")\n",
    "\n",
    "if levene_p_value < alpha:\n",
    "    print(f\"\\nLevene's test: {levene_p_value}, We reject the null hypothesis, There is significant difference bewteen Gate_30 and Gate_40\")\n",
    "else:\n",
    "    print(f\"\\nLevene's test: {levene_p_value}, We fail to reject the null hypothesis, There is no significant difference in variance between the Gate_30 and Gate_40\")"
   ]
  },
  {
   "cell_type": "code",
   "execution_count": 201,
   "id": "18e1e8d5-64ee-4920-ab02-9944a27d794e",
   "metadata": {},
   "outputs": [
    {
     "name": "stdout",
     "output_type": "stream",
     "text": [
      "\n",
      "Mann-whitneyu test: p-value = 0.05020880772044255\n"
     ]
    }
   ],
   "source": [
    "# Step 2: Perform a suitable test\n",
    "\n",
    "alpha = 0.05\n",
    "\n",
    "if shapiro_p_value_gate_30 > alpha and shapiro_p_value_gate_40 > alpha and levene_p_value > alpha:\n",
    "    # Assumption met - use t-test for means\n",
    "    t_stat, t_p_value = ttest_ind(cookies[cookies['version'] == 'gate_30']['sum_gamerounds'], cookies[cookies['version'] == 'gate_40']['sum_gamerounds'])\n",
    "    print(f'\\nindependent two-sample t-test: p-value = {t_p_value}')\n",
    "else:\n",
    "    # Assumptions not met - use Mann_whitney U test for medians\n",
    "    u_stat, u_p_value = mannwhitneyu(cookies[cookies['version'] == 'gate_30']['sum_gamerounds'], cookies[cookies['version'] == 'gate_40']['sum_gamerounds'])\n",
    "    print(f'\\nMann-whitneyu test: p-value = {u_p_value}')"
   ]
  },
  {
   "cell_type": "markdown",
   "id": "ef8d27e9-8889-40fa-bc53-dd2c0a7179b0",
   "metadata": {},
   "source": [
    "#### Conclusion\n",
    "\n",
    "- The Mann-whitneyu p-value is higher than the alpha which means, we fail to reject the null hypothesis. \n",
    "- We conclude that there is not enough evidence to claim a significant difference between the distributions of Gate_30 and Gate_40."
   ]
  },
  {
   "cell_type": "code",
   "execution_count": null,
   "id": "b37c1e37-1880-4fda-b7a2-44c27f578d92",
   "metadata": {},
   "outputs": [],
   "source": []
  },
  {
   "cell_type": "code",
   "execution_count": null,
   "id": "ca07b9b7-9bc5-48af-ba84-11331928703e",
   "metadata": {},
   "outputs": [],
   "source": []
  },
  {
   "cell_type": "code",
   "execution_count": null,
   "id": "9933965a-f558-41a5-9cc7-f0cbbadfca31",
   "metadata": {},
   "outputs": [],
   "source": []
  },
  {
   "cell_type": "code",
   "execution_count": null,
   "id": "5b371f97-95db-464f-a605-881ca2f52633",
   "metadata": {},
   "outputs": [],
   "source": []
  },
  {
   "cell_type": "code",
   "execution_count": null,
   "id": "1a5d19d8-e5ff-4e32-bf7a-67e5c21daf4a",
   "metadata": {},
   "outputs": [],
   "source": []
  },
  {
   "cell_type": "code",
   "execution_count": null,
   "id": "4f743ac1-dcd5-4ae8-8b08-1522449bbfc6",
   "metadata": {},
   "outputs": [],
   "source": []
  }
 ],
 "metadata": {
  "kernelspec": {
   "display_name": "Python 3 (ipykernel)",
   "language": "python",
   "name": "python3"
  },
  "language_info": {
   "codemirror_mode": {
    "name": "ipython",
    "version": 3
   },
   "file_extension": ".py",
   "mimetype": "text/x-python",
   "name": "python",
   "nbconvert_exporter": "python",
   "pygments_lexer": "ipython3",
   "version": "3.11.5"
  }
 },
 "nbformat": 4,
 "nbformat_minor": 5
}
